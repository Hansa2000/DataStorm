{
 "cells": [
  {
   "cell_type": "markdown",
   "metadata": {},
   "source": [
    "# Data Model for predicting the sales of a given item for a given week - Using linear regression\n",
    "\n",
    "## Data\n",
    "1. train_data.csv - A dataset with the daily sales of each item\n",
    "2. validation_data.csv - A dataset of the weekly sales of a selected number of items\n",
    "3. test_data.csv - A dataset to be completed by perdicted values of sales\n",
    "\n",
    "### Step 1: Organizing the data\n",
    "Create a dataset with the weekly sales ('named weekly_data.csv') of the items from the train_data.csv file"
   ]
  },
  {
   "cell_type": "code",
   "execution_count": null,
   "metadata": {},
   "outputs": [],
   "source": [
    "# Required dependencies\n",
    "from csv import DictReader\n",
    "from datetime import datetime as dt\n",
    "from datetime import timedelta as td"
   ]
  },
  {
   "cell_type": "code",
   "execution_count": 23,
   "metadata": {},
   "outputs": [
    {
     "name": "stdout",
     "output_type": "stream",
     "text": [
      "{'w{j}': {'start': datetime.datetime(2022, 2, 4, 0, 0), 'items': {'865933': {'CategoryCode': 'category_2', 'ItemCode': '865933', 'WeeklySales': 24}, '1054978': {'CategoryCode': 'category_1', 'ItemCode': '1054978', 'WeeklySales': 66}, '138742': {'CategoryCode': 'category_2', 'ItemCode': '138742', 'WeeklySales': 19}, '1044691': {'CategoryCode': 'category_1', 'ItemCode': '1044691', 'WeeklySales': 37}, '64978': {'CategoryCode': 'category_2', 'ItemCode': '64978', 'WeeklySales': 6}, '48940': {'CategoryCode': 'category_1', 'ItemCode': '48940', 'WeeklySales': 21}, '1064473': {'CategoryCode': 'category_2', 'ItemCode': '1064473', 'WeeklySales': 29}, '839374': {'CategoryCode': 'category_1', 'ItemCode': '839374', 'WeeklySales': 80}, '1003192': {'CategoryCode': 'category_4', 'ItemCode': '1003192', 'WeeklySales': 80}, '913561': {'CategoryCode': 'category_2', 'ItemCode': '913561', 'WeeklySales': 16}, '1006090': {'CategoryCode': 'category_2', 'ItemCode': '1006090', 'WeeklySales': 18}, '130993': {'CategoryCode': 'category_2', 'ItemCode': '130993', 'WeeklySales': 39}, '123307': {'CategoryCode': 'category_4', 'ItemCode': '123307', 'WeeklySales': 778}, '20824': {'CategoryCode': 'category_2', 'ItemCode': '20824', 'WeeklySales': 165}, '32245': {'CategoryCode': 'category_2', 'ItemCode': '32245', 'WeeklySales': 89}, '41830': {'CategoryCode': 'category_2', 'ItemCode': '41830', 'WeeklySales': 16}, '371104': {'CategoryCode': 'category_1', 'ItemCode': '371104', 'WeeklySales': 16}, '1101769': {'CategoryCode': 'category_2', 'ItemCode': '1101769', 'WeeklySales': 41}, '1090258': {'CategoryCode': 'category_2', 'ItemCode': '1090258', 'WeeklySales': 39}, '30877': {'CategoryCode': 'category_2', 'ItemCode': '30877', 'WeeklySales': 111}, '75886': {'CategoryCode': 'category_2', 'ItemCode': '75886', 'WeeklySales': 18}, '1006108': {'CategoryCode': 'category_2', 'ItemCode': '1006108', 'WeeklySales': 16}, '131983': {'CategoryCode': 'category_3', 'ItemCode': '131983', 'WeeklySales': 36}, '172582': {'CategoryCode': 'category_2', 'ItemCode': '172582', 'WeeklySales': 21}, '1032541': {'CategoryCode': 'category_1', 'ItemCode': '1032541', 'WeeklySales': 250}, '1082743': {'CategoryCode': 'category_4', 'ItemCode': '1082743', 'WeeklySales': 74}, '9925': {'CategoryCode': 'category_2', 'ItemCode': '9925', 'WeeklySales': 12}, '399220': {'CategoryCode': 'category_2', 'ItemCode': '399220', 'WeeklySales': 41}, '837943': {'CategoryCode': 'category_2', 'ItemCode': '837943', 'WeeklySales': 99}, '86992': {'CategoryCode': 'category_1', 'ItemCode': '86992', 'WeeklySales': 98}, '1070836': {'CategoryCode': 'category_2', 'ItemCode': '1070836', 'WeeklySales': 19}, '1067128': {'CategoryCode': 'category_1', 'ItemCode': '1067128', 'WeeklySales': 9}, '1047130': {'CategoryCode': 'category_3', 'ItemCode': '1047130', 'WeeklySales': 91}, '88450': {'CategoryCode': 'category_3', 'ItemCode': '88450', 'WeeklySales': 58}, '124954': {'CategoryCode': 'category_2', 'ItemCode': '124954', 'WeeklySales': 35}, '24136': {'CategoryCode': 'category_1', 'ItemCode': '24136', 'WeeklySales': 32}, '1047967': {'CategoryCode': 'category_1', 'ItemCode': '1047967', 'WeeklySales': 161}, '1066570': {'CategoryCode': 'category_3', 'ItemCode': '1066570', 'WeeklySales': 25}, '17296': {'CategoryCode': 'category_1', 'ItemCode': '17296', 'WeeklySales': 604}, '1032550': {'CategoryCode': 'category_1', 'ItemCode': '1032550', 'WeeklySales': 20}, '1010068': {'CategoryCode': 'category_2', 'ItemCode': '1010068', 'WeeklySales': 13}, '836125': {'CategoryCode': 'category_2', 'ItemCode': '836125', 'WeeklySales': 50}, '1060630': {'CategoryCode': 'category_3', 'ItemCode': '1060630', 'WeeklySales': 30}, '1032532': {'CategoryCode': 'category_1', 'ItemCode': '1032532', 'WeeklySales': 201}, '174436': {'CategoryCode': 'category_2', 'ItemCode': '174436', 'WeeklySales': 62}, '1013335': {'CategoryCode': 'category_3', 'ItemCode': '1013335', 'WeeklySales': 10}, '1098493': {'CategoryCode': 'category_2', 'ItemCode': '1098493', 'WeeklySales': 9}, '42496': {'CategoryCode': 'category_1', 'ItemCode': '42496', 'WeeklySales': 27}, '1032586': {'CategoryCode': 'category_1', 'ItemCode': '1032586', 'WeeklySales': 31}, '50785': {'CategoryCode': 'category_2', 'ItemCode': '50785', 'WeeklySales': 65}, '38518': {'CategoryCode': 'category_1', 'ItemCode': '38518', 'WeeklySales': 43}, '216151': {'CategoryCode': 'category_2', 'ItemCode': '216151', 'WeeklySales': 16}, '745945': {'CategoryCode': 'category_2', 'ItemCode': '745945', 'WeeklySales': 16}, '1081078': {'CategoryCode': 'category_3', 'ItemCode': '1081078', 'WeeklySales': 9}, '1003183': {'CategoryCode': 'category_4', 'ItemCode': '1003183', 'WeeklySales': 44}, '35449': {'CategoryCode': 'category_1', 'ItemCode': '35449', 'WeeklySales': 26}, '87559': {'CategoryCode': 'category_2', 'ItemCode': '87559', 'WeeklySales': 36}, '1067074': {'CategoryCode': 'category_2', 'ItemCode': '1067074', 'WeeklySales': 96}, '23569': {'CategoryCode': 'category_2', 'ItemCode': '23569', 'WeeklySales': 20}, '815101': {'CategoryCode': 'category_2', 'ItemCode': '815101', 'WeeklySales': 24}, '838456': {'CategoryCode': 'category_2', 'ItemCode': '838456', 'WeeklySales': 18}, '210868': {'CategoryCode': 'category_2', 'ItemCode': '210868', 'WeeklySales': 11}, '1098502': {'CategoryCode': 'category_2', 'ItemCode': '1098502', 'WeeklySales': 7}, '3427': {'CategoryCode': 'category_1', 'ItemCode': '3427', 'WeeklySales': 57}, '132028': {'CategoryCode': 'category_2', 'ItemCode': '132028', 'WeeklySales': 173}, '118033': {'CategoryCode': 'category_2', 'ItemCode': '118033', 'WeeklySales': 12}, '753613': {'CategoryCode': 'category_4', 'ItemCode': '753613', 'WeeklySales': 77}, '43738': {'CategoryCode': 'category_1', 'ItemCode': '43738', 'WeeklySales': 27}, '1105018': {'CategoryCode': 'category_2', 'ItemCode': '1105018', 'WeeklySales': 5}, '262384': {'CategoryCode': 'category_2', 'ItemCode': '262384', 'WeeklySales': 21}, '1044682': {'CategoryCode': 'category_1', 'ItemCode': '1044682', 'WeeklySales': 41}, '1056463': {'CategoryCode': 'category_1', 'ItemCode': '1056463', 'WeeklySales': 125}, '1032568': {'CategoryCode': 'category_1', 'ItemCode': '1032568', 'WeeklySales': 3}, '40759': {'CategoryCode': 'category_2', 'ItemCode': '40759', 'WeeklySales': 43}, '1048975': {'CategoryCode': 'category_1', 'ItemCode': '1048975', 'WeeklySales': 38}, '839356': {'CategoryCode': 'category_1', 'ItemCode': '839356', 'WeeklySales': 128}, '1003147': {'CategoryCode': 'category_4', 'ItemCode': '1003147', 'WeeklySales': 118}, '119554': {'CategoryCode': 'category_1', 'ItemCode': '119554', 'WeeklySales': 186}, '117610': {'CategoryCode': 'category_2', 'ItemCode': '117610', 'WeeklySales': 6}, '416212': {'CategoryCode': 'category_1', 'ItemCode': '416212', 'WeeklySales': 17}, '99079': {'CategoryCode': 'category_2', 'ItemCode': '99079', 'WeeklySales': 24}, '211309': {'CategoryCode': 'category_2', 'ItemCode': '211309', 'WeeklySales': 19}, '1075651': {'CategoryCode': 'category_1', 'ItemCode': '1075651', 'WeeklySales': 17}, '17287': {'CategoryCode': 'category_1', 'ItemCode': '17287', 'WeeklySales': 17}, '370195': {'CategoryCode': 'category_1', 'ItemCode': '370195', 'WeeklySales': 76}, '1090024': {'CategoryCode': 'category_3', 'ItemCode': '1090024', 'WeeklySales': 79}, '172033': {'CategoryCode': 'category_2', 'ItemCode': '172033', 'WeeklySales': 5}, '1067092': {'CategoryCode': 'category_2', 'ItemCode': '1067092', 'WeeklySales': 158}, '59749': {'CategoryCode': 'category_2', 'ItemCode': '59749', 'WeeklySales': 44}, '1090276': {'CategoryCode': 'category_2', 'ItemCode': '1090276', 'WeeklySales': 14}, '36898': {'CategoryCode': 'category_1', 'ItemCode': '36898', 'WeeklySales': 90}, '43657': {'CategoryCode': 'category_1', 'ItemCode': '43657', 'WeeklySales': 29}, '1101661': {'CategoryCode': 'category_3', 'ItemCode': '1101661', 'WeeklySales': 48}, '245581': {'CategoryCode': 'category_4', 'ItemCode': '245581', 'WeeklySales': 149}, '1030948': {'CategoryCode': 'category_1', 'ItemCode': '1030948', 'WeeklySales': 6}, '877624': {'CategoryCode': 'category_2', 'ItemCode': '877624', 'WeeklySales': 26}, '110320': {'CategoryCode': 'category_2', 'ItemCode': '110320', 'WeeklySales': 37}, '145978': {'CategoryCode': 'category_1', 'ItemCode': '145978', 'WeeklySales': 37}, '836152': {'CategoryCode': 'category_2', 'ItemCode': '836152', 'WeeklySales': 23}, '1049776': {'CategoryCode': 'category_1', 'ItemCode': '1049776', 'WeeklySales': 34}, '1006009': {'CategoryCode': 'category_2', 'ItemCode': '1006009', 'WeeklySales': 3}, '1058713': {'CategoryCode': 'category_1', 'ItemCode': '1058713', 'WeeklySales': 80}, '37861': {'CategoryCode': 'category_3', 'ItemCode': '37861', 'WeeklySales': 256}, '42424': {'CategoryCode': 'category_1', 'ItemCode': '42424', 'WeeklySales': 75}, '1050046': {'CategoryCode': 'category_1', 'ItemCode': '1050046', 'WeeklySales': 19}, '142756': {'CategoryCode': 'category_1', 'ItemCode': '142756', 'WeeklySales': 69}, '1071106': {'CategoryCode': 'category_2', 'ItemCode': '1071106', 'WeeklySales': 18}, '893824': {'CategoryCode': 'category_3', 'ItemCode': '893824', 'WeeklySales': 43}, '755584': {'CategoryCode': 'category_1', 'ItemCode': '755584', 'WeeklySales': 44}, '1103056': {'CategoryCode': 'category_2', 'ItemCode': '1103056', 'WeeklySales': 14}, '1090303': {'CategoryCode': 'category_1', 'ItemCode': '1090303', 'WeeklySales': 16}, '903976': {'CategoryCode': 'category_2', 'ItemCode': '903976', 'WeeklySales': 32}, '1032559': {'CategoryCode': 'category_1', 'ItemCode': '1032559', 'WeeklySales': 26}, '687616': {'CategoryCode': 'category_2', 'ItemCode': '687616', 'WeeklySales': 16}, '1092184': {'CategoryCode': 'category_2', 'ItemCode': '1092184', 'WeeklySales': 31}, '267478': {'CategoryCode': 'category_2', 'ItemCode': '267478', 'WeeklySales': 11}, '39436': {'CategoryCode': 'category_2', 'ItemCode': '39436', 'WeeklySales': 29}, '43630': {'CategoryCode': 'category_2', 'ItemCode': '43630', 'WeeklySales': 47}, '1105027': {'CategoryCode': 'category_2', 'ItemCode': '1105027', 'WeeklySales': 12}, '1101562': {'CategoryCode': 'category_2', 'ItemCode': '1101562', 'WeeklySales': 10}, '169504': {'CategoryCode': 'category_3', 'ItemCode': '169504', 'WeeklySales': 458}, '1068883': {'CategoryCode': 'category_1', 'ItemCode': '1068883', 'WeeklySales': 12}, '3418': {'CategoryCode': 'category_1', 'ItemCode': '3418', 'WeeklySales': 99}, '1015621': {'CategoryCode': 'category_1', 'ItemCode': '1015621', 'WeeklySales': 10}, '1097143': {'CategoryCode': 'category_3', 'ItemCode': '1097143', 'WeeklySales': 66}, '1044502': {'CategoryCode': 'category_2', 'ItemCode': '1044502', 'WeeklySales': 20}, '7666': {'CategoryCode': 'category_3', 'ItemCode': '7666', 'WeeklySales': 14}, '1076929': {'CategoryCode': 'category_2', 'ItemCode': '1076929', 'WeeklySales': 5}, '1090294': {'CategoryCode': 'category_1', 'ItemCode': '1090294', 'WeeklySales': 22}, '1063600': {'CategoryCode': 'category_3', 'ItemCode': '1063600', 'WeeklySales': 7}, '1090114': {'CategoryCode': 'category_1', 'ItemCode': '1090114', 'WeeklySales': 9}, '999403': {'CategoryCode': 'category_2', 'ItemCode': '999403', 'WeeklySales': 17}, '111382': {'CategoryCode': 'category_2', 'ItemCode': '111382', 'WeeklySales': 12}, '16936': {'CategoryCode': 'category_3', 'ItemCode': '16936', 'WeeklySales': 71}, '1026871': {'CategoryCode': 'category_2', 'ItemCode': '1026871', 'WeeklySales': 10}, '1067119': {'CategoryCode': 'category_1', 'ItemCode': '1067119', 'WeeklySales': 39}, '35530': {'CategoryCode': 'category_1', 'ItemCode': '35530', 'WeeklySales': 6}, '1070818': {'CategoryCode': 'category_2', 'ItemCode': '1070818', 'WeeklySales': 10}, '1064572': {'CategoryCode': 'category_3', 'ItemCode': '1064572', 'WeeklySales': 10}, '248272': {'CategoryCode': 'category_2', 'ItemCode': '248272', 'WeeklySales': 21}, '1085749': {'CategoryCode': 'category_1', 'ItemCode': '1085749', 'WeeklySales': 14}, '35584': {'CategoryCode': 'category_1', 'ItemCode': '35584', 'WeeklySales': 8}, '1081069': {'CategoryCode': 'category_3', 'ItemCode': '1081069', 'WeeklySales': 9}, '37510': {'CategoryCode': 'category_1', 'ItemCode': '37510', 'WeeklySales': 13}, '111436': {'CategoryCode': 'category_2', 'ItemCode': '111436', 'WeeklySales': 8}, '1076920': {'CategoryCode': 'category_2', 'ItemCode': '1076920', 'WeeklySales': 7}, '397213': {'CategoryCode': 'category_3', 'ItemCode': '397213', 'WeeklySales': 23}, '379249': {'CategoryCode': 'category_1', 'ItemCode': '379249', 'WeeklySales': 19}, '371239': {'CategoryCode': 'category_1', 'ItemCode': '371239', 'WeeklySales': 9}, '1105009': {'CategoryCode': 'category_2', 'ItemCode': '1105009', 'WeeklySales': 14}, '225259': {'CategoryCode': 'category_2', 'ItemCode': '225259', 'WeeklySales': 21}, '213802': {'CategoryCode': 'category_2', 'ItemCode': '213802', 'WeeklySales': 10}, '1021264': {'CategoryCode': 'category_1', 'ItemCode': '1021264', 'WeeklySales': 12}, '1077118': {'CategoryCode': 'category_1', 'ItemCode': '1077118', 'WeeklySales': 41}, '145330': {'CategoryCode': 'category_1', 'ItemCode': '145330', 'WeeklySales': 13}, '906586': {'CategoryCode': 'category_2', 'ItemCode': '906586', 'WeeklySales': 4}, '57058': {'CategoryCode': 'category_2', 'ItemCode': '57058', 'WeeklySales': 8}, '267496': {'CategoryCode': 'category_2', 'ItemCode': '267496', 'WeeklySales': 12}, '132334': {'CategoryCode': 'category_3', 'ItemCode': '132334', 'WeeklySales': 20}, '1081321': {'CategoryCode': 'category_1', 'ItemCode': '1081321', 'WeeklySales': 3}, '1090105': {'CategoryCode': 'category_1', 'ItemCode': '1090105', 'WeeklySales': 6}, '906595': {'CategoryCode': 'category_2', 'ItemCode': '906595', 'WeeklySales': 11}, '1090240': {'CategoryCode': 'category_2', 'ItemCode': '1090240', 'WeeklySales': 11}, '1081339': {'CategoryCode': 'category_1', 'ItemCode': '1081339', 'WeeklySales': 1}, '1071124': {'CategoryCode': 'category_2', 'ItemCode': '1071124', 'WeeklySales': 4}, '1003156': {'CategoryCode': 'category_4', 'ItemCode': '1003156', 'WeeklySales': 37}, '1006099': {'CategoryCode': 'category_2', 'ItemCode': '1006099', 'WeeklySales': 20}, '1101571': {'CategoryCode': 'category_2', 'ItemCode': '1101571', 'WeeklySales': 11}, '1060909': {'CategoryCode': 'category_4', 'ItemCode': '1060909', 'WeeklySales': 93}, '1101553': {'CategoryCode': 'category_2', 'ItemCode': '1101553', 'WeeklySales': 0}, '173617': {'CategoryCode': 'category_2', 'ItemCode': '173617', 'WeeklySales': 23}, '59047': {'CategoryCode': 'category_1', 'ItemCode': '59047', 'WeeklySales': 9}, '1081060': {'CategoryCode': 'category_3', 'ItemCode': '1081060', 'WeeklySales': 23}, '124774': {'CategoryCode': 'category_1', 'ItemCode': '124774', 'WeeklySales': 6}, '1071115': {'CategoryCode': 'category_2', 'ItemCode': '1071115', 'WeeklySales': 12}, '858886': {'CategoryCode': 'category_2', 'ItemCode': '858886', 'WeeklySales': 12}, '65788': {'CategoryCode': 'category_2', 'ItemCode': '65788', 'WeeklySales': 13}, '23200': {'CategoryCode': 'category_4', 'ItemCode': '23200', 'WeeklySales': 5}, '1044619': {'CategoryCode': 'category_1', 'ItemCode': '1044619', 'WeeklySales': 57}, '1084498': {'CategoryCode': 'category_1', 'ItemCode': '1084498', 'WeeklySales': 12}, '836584': {'CategoryCode': 'category_4', 'ItemCode': '836584', 'WeeklySales': 0}, '1024810': {'CategoryCode': 'category_4', 'ItemCode': '1024810', 'WeeklySales': 0}, '1074823': {'CategoryCode': 'category_4', 'ItemCode': '1074823', 'WeeklySales': 9}, '1044610': {'CategoryCode': 'category_1', 'ItemCode': '1044610', 'WeeklySales': 5}, '86974': {'CategoryCode': 'category_2', 'ItemCode': '86974', 'WeeklySales': 0}, '872260': {'CategoryCode': 'category_4', 'ItemCode': '872260', 'WeeklySales': 0}, '1076938': {'CategoryCode': 'category_2', 'ItemCode': '1076938', 'WeeklySales': 0}}}}\n"
     ]
    }
   ],
   "source": [
    "# A function to filter out the items in each week\n",
    "def filterItems(train_dataset_file:str, start_date:str, end_date:str) -> dict:\n",
    "    with open(train_dataset_file) as f:\n",
    "        data = DictReader(f)\n",
    "\n",
    "        start_date = dt.strptime(start_date, \"%m/%d/%Y\")\n",
    "        end_date = dt.strptime(end_date, \"%m/%d/%Y\")\n",
    "        week = td(days=7)\n",
    "        days_td = (end_date-start_date)\n",
    "        num_weeks = int((((days_td.total_seconds()//3600)//24)//7))\n",
    "\n",
    "        weeks = {f'w{j+1}':{'start':start_date+j*week,'items':{}} for j in range(num_weeks)}\n",
    "\n",
    "        for row in data:\n",
    "            date = dt.strptime(row['DateID'], '%m/%d/%Y')\n",
    "            for key, value in weeks.items():\n",
    "\n",
    "                start,items = value['start'], value['items']\n",
    "    \n",
    "                if start<=date<=start+week*4:\n",
    "                    # If the item was added earlier\n",
    "                    if row['ItemCode'] in items.keys():\n",
    "                        items[row['ItemCode']]['WeeklySales']+=int(row['DailySales'])\n",
    "                    # If the item was not added\n",
    "                    else:\n",
    "                        items[row['ItemCode']] = {\n",
    "                            'CategoryCode':row['CategoryCode'],\n",
    "                            'ItemCode':row['ItemCode'],\n",
    "                            'WeeklySales':0\n",
    "                        }\n",
    "    return weeks\n",
    "\n",
    "weeks = filterItems('./train_data.csv', '10/01/2021', '02/13/2022')\n",
    "print(len(weeks))\n"
   ]
  }
 ],
 "metadata": {
  "interpreter": {
   "hash": "c538cf36d1368961783812db133503b5bcd381ebafab078933f492cb36ca4168"
  },
  "kernelspec": {
   "display_name": "Python 3.9.6 64-bit",
   "language": "python",
   "name": "python3"
  },
  "language_info": {
   "codemirror_mode": {
    "name": "ipython",
    "version": 3
   },
   "file_extension": ".py",
   "mimetype": "text/x-python",
   "name": "python",
   "nbconvert_exporter": "python",
   "pygments_lexer": "ipython3",
   "version": "3.9.6"
  },
  "orig_nbformat": 4
 },
 "nbformat": 4,
 "nbformat_minor": 2
}
